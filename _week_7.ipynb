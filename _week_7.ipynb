{
 "cells": [
  {
   "cell_type": "markdown",
   "metadata": {},
   "source": [
    "### Задание\n",
    "<ul>\n",
    "<li>цели и задачи проекта, описание исходных и обработанных данных и признаков.</li>\n",
    "<li>первичный анализ признаков</li>\n",
    "<li>первичный визуальный анализ признаков</li>\n",
    "<li>если пришли к каким-то \"инсайтам\", обнаружили закономерности – изложите</li>\n",
    "<li>описание предобработки данных</li>\n",
    "<li>если создаются признаки, то описание этого процесса</li>\n",
    "<li>кросс-валидация, построение кривых валидации и обучения</li>\n",
    "<li>оценка модели с описанием выбранной метрики. Опишите простыми словами качество модели, как она может применяться</li>\n",
    "<li>выводы: как построенная модель может применяться на практике, какие бизнес-задачи решать. Подведите итог, опишите, что еще можно сделать, а что сделать не удалось.</li>\n",
    "</ul>\n",
    "--------------------------------------------------------------------------------------------------------------------------"
   ]
  },
  {
   "cell_type": "markdown",
   "metadata": {},
   "source": [
    "### 1. Цели и задачи проекта, описание исходных и обработанных данных и признаков.\n",
    "\n",
    "Имеются последовательности веб-сайтов (с временными метками) для N пользователей, записанные в csv-файлы (один файл - один пользователь). Выборки (папки) есть для 3, 10 и 150 пользователей (есть еще для 3000, но это \"на бадущее\"). Используя эти данные нужно идентифицировать пользователей (исследовать метрики качества для разных видов классификации: прогноз уникального значения, one-against-all)"
   ]
  },
  {
   "cell_type": "code",
   "execution_count": 35,
   "metadata": {},
   "outputs": [],
   "source": [
    "import warnings\n",
    "warnings.filterwarnings('ignore')\n",
    "\n",
    "import numpy as np\n",
    "import pandas as pd\n",
    "from glob import glob\n",
    "import os\n",
    "import pickle\n",
    "import itertools\n",
    "from scipy.sparse import csr_matrix, hstack\n",
    "from sklearn.model_selection import train_test_split, cross_val_score, StratifiedKFold, GridSearchCV, TimeSeriesSplit\n",
    "from sklearn.linear_model import LogisticRegression, LogisticRegressionCV, SGDClassifier\n",
    "from sklearn.svm import LinearSVC\n",
    "from sklearn.metrics import accuracy_score, roc_auc_score\n",
    "from tqdm import tqdm\n",
    "%matplotlib inline\n",
    "from matplotlib import pyplot as plt\n",
    "from sklearn.feature_extraction.text import CountVectorizer"
   ]
  },
  {
   "cell_type": "code",
   "execution_count": 2,
   "metadata": {},
   "outputs": [
    {
     "data": {
      "text/html": [
       "<div>\n",
       "<style scoped>\n",
       "    .dataframe tbody tr th:only-of-type {\n",
       "        vertical-align: middle;\n",
       "    }\n",
       "\n",
       "    .dataframe tbody tr th {\n",
       "        vertical-align: top;\n",
       "    }\n",
       "\n",
       "    .dataframe thead th {\n",
       "        text-align: right;\n",
       "    }\n",
       "</style>\n",
       "<table border=\"1\" class=\"dataframe\">\n",
       "  <thead>\n",
       "    <tr style=\"text-align: right;\">\n",
       "      <th></th>\n",
       "      <th>timestamp</th>\n",
       "      <th>site</th>\n",
       "    </tr>\n",
       "  </thead>\n",
       "  <tbody>\n",
       "    <tr>\n",
       "      <th>0</th>\n",
       "      <td>2013-11-15 08:12:07</td>\n",
       "      <td>fpdownload2.macromedia.com</td>\n",
       "    </tr>\n",
       "    <tr>\n",
       "      <th>1</th>\n",
       "      <td>2013-11-15 08:12:17</td>\n",
       "      <td>laposte.net</td>\n",
       "    </tr>\n",
       "    <tr>\n",
       "      <th>2</th>\n",
       "      <td>2013-11-15 08:12:17</td>\n",
       "      <td>www.laposte.net</td>\n",
       "    </tr>\n",
       "    <tr>\n",
       "      <th>3</th>\n",
       "      <td>2013-11-15 08:12:17</td>\n",
       "      <td>www.google.com</td>\n",
       "    </tr>\n",
       "    <tr>\n",
       "      <th>4</th>\n",
       "      <td>2013-11-15 08:12:18</td>\n",
       "      <td>www.laposte.net</td>\n",
       "    </tr>\n",
       "  </tbody>\n",
       "</table>\n",
       "</div>"
      ],
      "text/plain": [
       "             timestamp                        site\n",
       "0  2013-11-15 08:12:07  fpdownload2.macromedia.com\n",
       "1  2013-11-15 08:12:17                 laposte.net\n",
       "2  2013-11-15 08:12:17             www.laposte.net\n",
       "3  2013-11-15 08:12:17              www.google.com\n",
       "4  2013-11-15 08:12:18             www.laposte.net"
      ]
     },
     "execution_count": 2,
     "metadata": {},
     "output_type": "execute_result"
    }
   ],
   "source": [
    "PATH_TO_DATA = 'C:\\\\Users\\\\Пользователь\\\\Desktop\\\\PY_spec\\\\1_prepare_data\\\\capstone_user_identification' \n",
    "pd.read_csv(os.path.join(PATH_TO_DATA,'10users\\\\user0031.csv')).head()"
   ]
  },
  {
   "cell_type": "markdown",
   "metadata": {},
   "source": [
    "Следуя заданию первой недели и статье \"A Tool for Classification of Sequential Data\" предположим, что разбить последовательность сайтов на куски по 10 штук - не самая плохая идея. Также будем использовать мешок слов над сайтами без лемматизации или другой обработки. Обернем все это в неуклюжую функцию - нагромождение перемешанных pandas и numpy команд.<br> Особенно обращаем внимание на безобразие, котрое начинается в 32 строке, т.к. все это работает на винде, которая обращается к файлам сортируя их по имени, прогон на Ubunty на второй неделе превратил все в кашу"
   ]
  },
  {
   "cell_type": "code",
   "execution_count": 3,
   "metadata": {},
   "outputs": [],
   "source": [
    "def prepare_train_set(path_to_csv_files, session_length=10):\n",
    "    \n",
    "    data = pd.DataFrame(columns=['timestamp', 'site', 'id']) #создаем базовый фрейм для наполнения из csv\n",
    "    for name in glob(path_to_csv_files +'\\\\*.csv'):          #открываем файлы и заполняем фрейм, юзер = имя файла\n",
    "        data_1 = pd.read_csv(name, sep=',')\n",
    "        data_1['id'] = os.path.basename(name)\n",
    "        data = pd.concat([data, data_1])\n",
    "    data = data.reset_index(drop=True)                       #raw-фрейм\n",
    "   \n",
    "    counter = pd.DataFrame(data.site.value_counts())         #создаем фрейм с часотами и дополнительными id сайтов\n",
    "    counter = counter.reset_index()\n",
    "    counter['id'] = counter.index + 1\n",
    "    counter.set_index('id')\n",
    "    counter = counter.set_index('index')\n",
    "    counter = counter.reset_index()\n",
    "    \n",
    "    site_freq = {}                                           #переводим фрейм в словарь\n",
    "    for i in range(counter.shape[0]):\n",
    "        site_freq[counter.iloc[i,:][0]] = [counter.iloc[i,:][2], counter.iloc[i,:][1]]\n",
    "    \n",
    "    data_1 = data.drop(['timestamp'], axis=1)                #затираем отметку времени\n",
    "    users = list(data_1.id.unique())                         #список юзеров\n",
    "    for i in range(data_1.shape[0]):                         #кодируем сайты и юзеров\n",
    "        data_1.iloc[i,0] = site_freq[str(data_1.iloc[i,0])][0]\n",
    "        data_1.iloc[i,1] = users.index(str(data_1.iloc[i,1])) + 1\n",
    "    \n",
    "    data_group = data_1.groupby(by=['id']).count()\n",
    "    n = 0\n",
    "    l = list(data_group.index.unique())                       #коды юзеров\n",
    "    s = session_length\n",
    "    for i in l:                                               #для каждого юзера\n",
    "        #data_group = data_1.groupby(by=['id']).count()        #считаем количество сайтов\n",
    "        if int(data_group.loc[i]) % s != 0:\n",
    "            matrix = np.array((s - int(data_group.loc[i]) % s)*[0,i]).reshape(((s - int(data_group.loc[i]) % s),2)) #строим матрицу \"нехватки до полной сессии\"\n",
    "            df_insert = pd.DataFrame(matrix, columns = ['site', 'id']) \n",
    "            dfA = data_1.iloc[:int(data_group.loc[i])+n, ]        #делим фрейм и вставляем нули\n",
    "            dfB = data_1.iloc[int(data_group.loc[i])+n:, ]\n",
    "            data_1 = dfA.append(df_insert).append(dfB).reset_index(drop = True)\n",
    "        n += int(data_1.groupby(by=['id']).count().loc[i])    #обновляем счетчик позиции для вставки\n",
    "    \n",
    "    \n",
    "    data_2 = pd.DataFrame(data_1.site.values.reshape((data_1.shape[0] // s,s))#, создаем фрейм, пока убираем имена колонок\n",
    "                      #columns=['site1', 'site2', 'site3', 'site4', 'site5', 'site6', 'site7', 'site8', 'site9', 'site10']\n",
    "                     )\n",
    "    data_2['user_id'] = list(data_1.id[::s, ])\n",
    "    \n",
    "    return data_2, site_freq"
   ]
  },
  {
   "cell_type": "code",
   "execution_count": 4,
   "metadata": {},
   "outputs": [
    {
     "data": {
      "text/html": [
       "<div>\n",
       "<style scoped>\n",
       "    .dataframe tbody tr th:only-of-type {\n",
       "        vertical-align: middle;\n",
       "    }\n",
       "\n",
       "    .dataframe tbody tr th {\n",
       "        vertical-align: top;\n",
       "    }\n",
       "\n",
       "    .dataframe thead th {\n",
       "        text-align: right;\n",
       "    }\n",
       "</style>\n",
       "<table border=\"1\" class=\"dataframe\">\n",
       "  <thead>\n",
       "    <tr style=\"text-align: right;\">\n",
       "      <th></th>\n",
       "      <th>0</th>\n",
       "      <th>1</th>\n",
       "      <th>2</th>\n",
       "      <th>3</th>\n",
       "      <th>4</th>\n",
       "      <th>5</th>\n",
       "      <th>6</th>\n",
       "      <th>7</th>\n",
       "      <th>8</th>\n",
       "      <th>9</th>\n",
       "      <th>user_id</th>\n",
       "    </tr>\n",
       "  </thead>\n",
       "  <tbody>\n",
       "    <tr>\n",
       "      <th>0</th>\n",
       "      <td>3</td>\n",
       "      <td>2</td>\n",
       "      <td>2</td>\n",
       "      <td>8</td>\n",
       "      <td>2</td>\n",
       "      <td>1</td>\n",
       "      <td>10</td>\n",
       "      <td>5</td>\n",
       "      <td>11</td>\n",
       "      <td>9</td>\n",
       "      <td>1</td>\n",
       "    </tr>\n",
       "    <tr>\n",
       "      <th>1</th>\n",
       "      <td>3</td>\n",
       "      <td>1</td>\n",
       "      <td>1</td>\n",
       "      <td>1</td>\n",
       "      <td>0</td>\n",
       "      <td>0</td>\n",
       "      <td>0</td>\n",
       "      <td>0</td>\n",
       "      <td>0</td>\n",
       "      <td>0</td>\n",
       "      <td>1</td>\n",
       "    </tr>\n",
       "    <tr>\n",
       "      <th>2</th>\n",
       "      <td>3</td>\n",
       "      <td>2</td>\n",
       "      <td>6</td>\n",
       "      <td>6</td>\n",
       "      <td>2</td>\n",
       "      <td>0</td>\n",
       "      <td>0</td>\n",
       "      <td>0</td>\n",
       "      <td>0</td>\n",
       "      <td>0</td>\n",
       "      <td>2</td>\n",
       "    </tr>\n",
       "    <tr>\n",
       "      <th>3</th>\n",
       "      <td>4</td>\n",
       "      <td>1</td>\n",
       "      <td>2</td>\n",
       "      <td>1</td>\n",
       "      <td>2</td>\n",
       "      <td>1</td>\n",
       "      <td>1</td>\n",
       "      <td>5</td>\n",
       "      <td>7</td>\n",
       "      <td>4</td>\n",
       "      <td>3</td>\n",
       "    </tr>\n",
       "    <tr>\n",
       "      <th>4</th>\n",
       "      <td>4</td>\n",
       "      <td>1</td>\n",
       "      <td>2</td>\n",
       "      <td>0</td>\n",
       "      <td>0</td>\n",
       "      <td>0</td>\n",
       "      <td>0</td>\n",
       "      <td>0</td>\n",
       "      <td>0</td>\n",
       "      <td>0</td>\n",
       "      <td>3</td>\n",
       "    </tr>\n",
       "  </tbody>\n",
       "</table>\n",
       "</div>"
      ],
      "text/plain": [
       "   0  1  2  3  4  5   6  7   8  9  user_id\n",
       "0  3  2  2  8  2  1  10  5  11  9        1\n",
       "1  3  1  1  1  0  0   0  0   0  0        1\n",
       "2  3  2  6  6  2  0   0  0   0  0        2\n",
       "3  4  1  2  1  2  1   1  5   7  4        3\n",
       "4  4  1  2  0  0  0   0  0   0  0        3"
      ]
     },
     "execution_count": 4,
     "metadata": {},
     "output_type": "execute_result"
    }
   ],
   "source": [
    "train_data_toy, site_freq_3users = prepare_train_set(os.path.join(PATH_TO_DATA, '3users'), \n",
    "                                                     session_length=10)\n",
    "train_data_toy"
   ]
  },
  {
   "cell_type": "code",
   "execution_count": 5,
   "metadata": {},
   "outputs": [
    {
     "data": {
      "text/plain": [
       "{'google.com': [1, 9],\n",
       " 'oracle.com': [2, 8],\n",
       " 'vk.com': [3, 3],\n",
       " 'meduza.io': [4, 3],\n",
       " 'mail.google.com': [5, 2],\n",
       " 'football.kulichki.ru': [6, 2],\n",
       " 'yandex.ru': [7, 1],\n",
       " 'geo.mozilla.org': [8, 1],\n",
       " 'plus.google.com': [9, 1],\n",
       " 'accounts.google.com': [10, 1],\n",
       " 'apis.google.com': [11, 1]}"
      ]
     },
     "execution_count": 5,
     "metadata": {},
     "output_type": "execute_result"
    }
   ],
   "source": [
    "site_freq_3users"
   ]
  },
  {
   "cell_type": "markdown",
   "metadata": {},
   "source": [
    "Ну хоть словарь сайтов формируется как следует. Делает это долго, но так как мы его запишем \"и тааак сойдет\". Вообще ускорить его формирование очень интересно (займемся факультативно)<br> Начнем заниматься разреженной матрицей, зададим ее руками"
   ]
  },
  {
   "cell_type": "code",
   "execution_count": 6,
   "metadata": {},
   "outputs": [],
   "source": [
    "def csr(X_toy):\n",
    "    indptr = [0]\n",
    "    indices = []\n",
    "    data = []\n",
    "    vocabulary = dict(zip(np.unique(X_toy)[1:], np.unique(X_toy)[1:]))\n",
    "    for session in X_toy:\n",
    "        for site in session:\n",
    "            if site != 0:\n",
    "                index = vocabulary.setdefault(site, len(vocabulary))\n",
    "                indices.append(index)\n",
    "                data.append(1)\n",
    "        indptr.append(len(indices))\n",
    "\n",
    "    return csr_matrix((data, indices, indptr), shape=(X_toy.shape[0],len(vocabulary)))"
   ]
  },
  {
   "cell_type": "markdown",
   "metadata": {},
   "source": [
    "Посмотрим как у нас дела"
   ]
  },
  {
   "cell_type": "code",
   "execution_count": 7,
   "metadata": {},
   "outputs": [
    {
     "name": "stdout",
     "output_type": "stream",
     "text": [
      "Wall time: 5min 30s\n"
     ]
    }
   ],
   "source": [
    "%%time\n",
    "train_data_150users, site_freq_150users = prepare_train_set(os.path.join(PATH_TO_DATA, '150users'),\n",
    "                                                            session_length=10)"
   ]
  },
  {
   "cell_type": "code",
   "execution_count": 8,
   "metadata": {},
   "outputs": [
    {
     "name": "stdout",
     "output_type": "stream",
     "text": [
      "Wall time: 3.13 s\n"
     ]
    }
   ],
   "source": [
    "%%time\n",
    "X_150users, y_150users = train_data_150users.iloc[:, :-1].values, \\\n",
    "                         train_data_150users.iloc[:, -1].values\n",
    "X_sparse_150users = csr(X_150users)"
   ]
  },
  {
   "cell_type": "code",
   "execution_count": 9,
   "metadata": {},
   "outputs": [
    {
     "name": "stdout",
     "output_type": "stream",
     "text": [
      "Wall time: 10min\n"
     ]
    },
    {
     "data": {
      "text/plain": [
       "0.31041677518450406"
      ]
     },
     "execution_count": 9,
     "metadata": {},
     "output_type": "execute_result"
    }
   ],
   "source": [
    "%%time\n",
    "clf = LogisticRegression(n_jobs=-1)\n",
    "cross_val_score(clf, X_sparse_150users, y_150users).mean()"
   ]
  },
  {
   "cell_type": "markdown",
   "metadata": {},
   "source": [
    "<b>Вывод:</b> в целом все, вроде, понятно - на основе базовых признаков (время и сайты) можно строить дополнительные: длина сессии, н-граммы, частотные показатели (например, доля \"популярных\" сайтов в сессии), рассмотрим структуру признаков\n",
    "\n",
    "### 2. Первичный анализ признаков, предобработка, визуальный анализ, предобработка, создание признаков\n",
    "\n",
    "Подкорректируем функцию, чтобы все не \"улетало\" на Ubunty-машине и фрейм строился с показателями времени, уникальных сайтов и т.д. Все по прежнему Долго - го изучать чужие функции"
   ]
  },
  {
   "cell_type": "code",
   "execution_count": 4,
   "metadata": {},
   "outputs": [],
   "source": [
    "def prepare_train_set_with_fe(path_to_csv_files, \n",
    "                              site_freq_path, \n",
    "                              feature_names,\n",
    "                              session_length=10, \n",
    "                              window_size=10):\n",
    "\n",
    "    data = pd.DataFrame(columns=['timestamp', 'site', 'id'])                # созжаем фрейм для заполнения \n",
    "    for name in glob(path_to_csv_files+'\\\\*.csv'):                          # перебираем все файлы\n",
    "        data_1 = pd.read_csv(name, sep=',')                                 # каждый файл переводим во фрейм \n",
    "        data_1['id'] = int(''.join([i for i in os.path.basename(name) if i.isdigit()]))   # проставляем колонку id номером в названии файла\n",
    "        data = pd.concat([data, data_1])                                    # присоединяем к исходному фрейму\n",
    "\n",
    "    data = data.reset_index(drop=True)                                      # индекс по новой \n",
    "    data['timestamp'] = pd.to_datetime(data['timestamp'])                   # заполняем время\n",
    "\n",
    "    with open(site_freq_path, 'rb') as site_freq_pkl:                       # подгружаем словарь сайтов\n",
    "        site_freq = pickle.load(site_freq_pkl)\n",
    "\n",
    "    data_1 = data.copy(deep=True)                                           # копируем, чтобы можно было перенести данные о времени на каждом сайте обращаясь параллельно к двум фреймам\n",
    "    #users = list(data.id.unique())\n",
    "\n",
    "    for i in range(data.shape[0]):                                          # по всем активностям во фрейме\n",
    "        if i < data.shape[0] - 1 and data.iloc[i,2] == data.iloc[i+1,2]:    # пока внутри фрейма и пользователь следующей записи тот же, что и в текущей записи\n",
    "            data_1.iloc[i,0] = int((data.iloc[i+1,0] - data.iloc[i,0]).total_seconds()) # замени отметку времени на разность в секундах\n",
    "        else: data_1.iloc[i,0] = 0                                          # или поставь 0\n",
    "        data_1.iloc[i,1] = site_freq[str(data.iloc[i,1])][0]                # сайты замени их номерами в частотном словаре \n",
    "\n",
    "    data_1['hour'] = data['timestamp'].apply(lambda x: x.hour)              # время переведи в часы\n",
    "    data_1['day'] = data['timestamp'].apply(lambda x: x.dayofweek)          # время переведи в день недели\n",
    "\n",
    "    data_group = data_1[['site', 'id']].groupby(by=['id']).count()          # сколько записей на каждого пользователя\n",
    "\n",
    "    N=session_length\n",
    "    data_11 = np.asarray(data_1)                                            # нампаим в надежде на ускорение...зря                                           \n",
    "\n",
    "    gf = np.matrix([0,0,0,0,0])                                             # вспомогательная матрица с количеством столбцов по количеству учитываемых данных по каджой записи \n",
    "    l = list(data_group.index.unique())                                     # индексы пользователей\n",
    "    for i in l:                                                             # для каждого пользователя\n",
    "        quantity = int(data_group.loc[i])                                   # количество записей\n",
    "        if quantity % N != 0:                                               # если не делится на длину сессии\n",
    "            matrix = np.array((N - quantity % N)*[0,0,i,0,0]).reshape(((N - quantity % N),5)) # докинем нулей с идентификатором пользователя\n",
    "            gf = np.concatenate((gf, data_11[data_11[:,2] == i], matrix))   # присоединим к матрице\n",
    "        else:\n",
    "            gf = np.concatenate((gf, data_11[data_11[:,2] == i]))           # аналогично, но без нулевой матрицы\n",
    "    data_11 = np.delete(gf, [0], axis=0)                                    # удалим первую строку нулей\n",
    "\n",
    "    data_time = data_11[:,0].reshape((data_11.shape[0] // N), N)            # решейп столбцов матрицы\n",
    "    data_site = data_11[:,1].reshape((data_11.shape[0] // N), N)\n",
    "\n",
    "    session_timing = pd.DataFrame(np.concatenate((data_site,                # объединяем матрицу и переводим ее в df   \n",
    "                                                  data_time,\n",
    "                                                  data_11[::N,2],\n",
    "                                                  data_11[::N,3],\n",
    "                                                  data_11[::N,4],\n",
    "                                                  data_11[::N,2]),\n",
    "                                                 axis=1))\n",
    "\n",
    "    session_timing.iloc[:,19] = session_timing.iloc[:, 10:19].sum(axis=1).astype(int) # считаем продолжительность сессии\n",
    "    session_timing.iloc[:,20] = session_timing.iloc[:, 0:10].apply(lambda x: len(set(filter(lambda a: a != 0, x))), axis=1) # уникальные сайты\n",
    "\n",
    "    session_timing.columns = feature_names\n",
    "    \n",
    "    return session_timing"
   ]
  },
  {
   "cell_type": "markdown",
   "metadata": {},
   "source": [
    "сформируем фреймы по 10 и 150 ползователям и посмотрим на распределение данных"
   ]
  },
  {
   "cell_type": "code",
   "execution_count": 11,
   "metadata": {},
   "outputs": [
    {
     "name": "stdout",
     "output_type": "stream",
     "text": [
      "Wall time: 8min 37s\n"
     ]
    }
   ],
   "source": [
    "%%time\n",
    "\n",
    "feature_names = ['site' + str(i) for i in range(1,11)] + \\\n",
    "                ['time_diff' + str(j) for j in range(1,10)] + \\\n",
    "                ['session_timespan', '#unique_sites', 'start_hour', 'day_of_week', 'target']\n",
    "\n",
    "train_data_10users = prepare_train_set_with_fe(os.path.join(PATH_TO_DATA, '10users'), \n",
    "                                               site_freq_path=os.path.join(PATH_TO_DATA, 'site_freq_10users.pkl'),\n",
    "                                               feature_names=feature_names, \n",
    "                                               session_length=10)\n",
    "\n",
    "train_data_150users = prepare_train_set_with_fe(os.path.join(PATH_TO_DATA, '150users'), \n",
    "                                                site_freq_path=os.path.join(PATH_TO_DATA, 'site_freq_150users.pkl'),\n",
    "                                                feature_names=feature_names, \n",
    "                                                session_length=10)\n"
   ]
  },
  {
   "cell_type": "code",
   "execution_count": 12,
   "metadata": {},
   "outputs": [
    {
     "data": {
      "text/html": [
       "<div>\n",
       "<style scoped>\n",
       "    .dataframe tbody tr th:only-of-type {\n",
       "        vertical-align: middle;\n",
       "    }\n",
       "\n",
       "    .dataframe tbody tr th {\n",
       "        vertical-align: top;\n",
       "    }\n",
       "\n",
       "    .dataframe thead th {\n",
       "        text-align: right;\n",
       "    }\n",
       "</style>\n",
       "<table border=\"1\" class=\"dataframe\">\n",
       "  <thead>\n",
       "    <tr style=\"text-align: right;\">\n",
       "      <th></th>\n",
       "      <th>site1</th>\n",
       "      <th>site2</th>\n",
       "      <th>site3</th>\n",
       "      <th>site4</th>\n",
       "      <th>site5</th>\n",
       "      <th>site6</th>\n",
       "      <th>site7</th>\n",
       "      <th>site8</th>\n",
       "      <th>site9</th>\n",
       "      <th>site10</th>\n",
       "      <th>...</th>\n",
       "      <th>time_diff5</th>\n",
       "      <th>time_diff6</th>\n",
       "      <th>time_diff7</th>\n",
       "      <th>time_diff8</th>\n",
       "      <th>time_diff9</th>\n",
       "      <th>session_timespan</th>\n",
       "      <th>#unique_sites</th>\n",
       "      <th>start_hour</th>\n",
       "      <th>day_of_week</th>\n",
       "      <th>target</th>\n",
       "    </tr>\n",
       "  </thead>\n",
       "  <tbody>\n",
       "    <tr>\n",
       "      <th>0</th>\n",
       "      <td>192</td>\n",
       "      <td>574</td>\n",
       "      <td>134</td>\n",
       "      <td>3</td>\n",
       "      <td>134</td>\n",
       "      <td>134</td>\n",
       "      <td>3</td>\n",
       "      <td>134</td>\n",
       "      <td>204</td>\n",
       "      <td>134</td>\n",
       "      <td>...</td>\n",
       "      <td>20</td>\n",
       "      <td>1</td>\n",
       "      <td>0</td>\n",
       "      <td>1</td>\n",
       "      <td>0</td>\n",
       "      <td>33</td>\n",
       "      <td>5</td>\n",
       "      <td>8</td>\n",
       "      <td>4</td>\n",
       "      <td>31</td>\n",
       "    </tr>\n",
       "    <tr>\n",
       "      <th>1</th>\n",
       "      <td>420</td>\n",
       "      <td>193</td>\n",
       "      <td>697</td>\n",
       "      <td>254</td>\n",
       "      <td>134</td>\n",
       "      <td>31</td>\n",
       "      <td>400</td>\n",
       "      <td>3338</td>\n",
       "      <td>219</td>\n",
       "      <td>55</td>\n",
       "      <td>...</td>\n",
       "      <td>0</td>\n",
       "      <td>1</td>\n",
       "      <td>3</td>\n",
       "      <td>3</td>\n",
       "      <td>8</td>\n",
       "      <td>284</td>\n",
       "      <td>10</td>\n",
       "      <td>8</td>\n",
       "      <td>4</td>\n",
       "      <td>31</td>\n",
       "    </tr>\n",
       "    <tr>\n",
       "      <th>2</th>\n",
       "      <td>55</td>\n",
       "      <td>3</td>\n",
       "      <td>55</td>\n",
       "      <td>55</td>\n",
       "      <td>5</td>\n",
       "      <td>295</td>\n",
       "      <td>420</td>\n",
       "      <td>333</td>\n",
       "      <td>897</td>\n",
       "      <td>55</td>\n",
       "      <td>...</td>\n",
       "      <td>0</td>\n",
       "      <td>0</td>\n",
       "      <td>1</td>\n",
       "      <td>0</td>\n",
       "      <td>0</td>\n",
       "      <td>258</td>\n",
       "      <td>7</td>\n",
       "      <td>8</td>\n",
       "      <td>4</td>\n",
       "      <td>31</td>\n",
       "    </tr>\n",
       "    <tr>\n",
       "      <th>3</th>\n",
       "      <td>476</td>\n",
       "      <td>4379</td>\n",
       "      <td>476</td>\n",
       "      <td>55</td>\n",
       "      <td>55</td>\n",
       "      <td>55</td>\n",
       "      <td>55</td>\n",
       "      <td>981</td>\n",
       "      <td>199</td>\n",
       "      <td>124</td>\n",
       "      <td>...</td>\n",
       "      <td>25</td>\n",
       "      <td>1</td>\n",
       "      <td>0</td>\n",
       "      <td>0</td>\n",
       "      <td>0</td>\n",
       "      <td>30</td>\n",
       "      <td>6</td>\n",
       "      <td>8</td>\n",
       "      <td>4</td>\n",
       "      <td>31</td>\n",
       "    </tr>\n",
       "    <tr>\n",
       "      <th>4</th>\n",
       "      <td>343</td>\n",
       "      <td>55</td>\n",
       "      <td>5</td>\n",
       "      <td>4515</td>\n",
       "      <td>259</td>\n",
       "      <td>211</td>\n",
       "      <td>4398</td>\n",
       "      <td>2139</td>\n",
       "      <td>684</td>\n",
       "      <td>2139</td>\n",
       "      <td>...</td>\n",
       "      <td>1</td>\n",
       "      <td>0</td>\n",
       "      <td>1</td>\n",
       "      <td>1</td>\n",
       "      <td>0</td>\n",
       "      <td>6</td>\n",
       "      <td>9</td>\n",
       "      <td>8</td>\n",
       "      <td>4</td>\n",
       "      <td>31</td>\n",
       "    </tr>\n",
       "    <tr>\n",
       "      <th>...</th>\n",
       "      <td>...</td>\n",
       "      <td>...</td>\n",
       "      <td>...</td>\n",
       "      <td>...</td>\n",
       "      <td>...</td>\n",
       "      <td>...</td>\n",
       "      <td>...</td>\n",
       "      <td>...</td>\n",
       "      <td>...</td>\n",
       "      <td>...</td>\n",
       "      <td>...</td>\n",
       "      <td>...</td>\n",
       "      <td>...</td>\n",
       "      <td>...</td>\n",
       "      <td>...</td>\n",
       "      <td>...</td>\n",
       "      <td>...</td>\n",
       "      <td>...</td>\n",
       "      <td>...</td>\n",
       "      <td>...</td>\n",
       "      <td>...</td>\n",
       "    </tr>\n",
       "    <tr>\n",
       "      <th>14056</th>\n",
       "      <td>3</td>\n",
       "      <td>4</td>\n",
       "      <td>6</td>\n",
       "      <td>10</td>\n",
       "      <td>2</td>\n",
       "      <td>21</td>\n",
       "      <td>3</td>\n",
       "      <td>6</td>\n",
       "      <td>27</td>\n",
       "      <td>65</td>\n",
       "      <td>...</td>\n",
       "      <td>0</td>\n",
       "      <td>1</td>\n",
       "      <td>23</td>\n",
       "      <td>1</td>\n",
       "      <td>0</td>\n",
       "      <td>27</td>\n",
       "      <td>8</td>\n",
       "      <td>15</td>\n",
       "      <td>2</td>\n",
       "      <td>241</td>\n",
       "    </tr>\n",
       "    <tr>\n",
       "      <th>14057</th>\n",
       "      <td>10</td>\n",
       "      <td>21</td>\n",
       "      <td>65</td>\n",
       "      <td>27</td>\n",
       "      <td>30</td>\n",
       "      <td>3</td>\n",
       "      <td>4</td>\n",
       "      <td>9</td>\n",
       "      <td>4</td>\n",
       "      <td>30</td>\n",
       "      <td>...</td>\n",
       "      <td>0</td>\n",
       "      <td>0</td>\n",
       "      <td>2</td>\n",
       "      <td>1</td>\n",
       "      <td>6</td>\n",
       "      <td>11</td>\n",
       "      <td>8</td>\n",
       "      <td>15</td>\n",
       "      <td>2</td>\n",
       "      <td>241</td>\n",
       "    </tr>\n",
       "    <tr>\n",
       "      <th>14058</th>\n",
       "      <td>33</td>\n",
       "      <td>4</td>\n",
       "      <td>9</td>\n",
       "      <td>6</td>\n",
       "      <td>10</td>\n",
       "      <td>51</td>\n",
       "      <td>9</td>\n",
       "      <td>33</td>\n",
       "      <td>4</td>\n",
       "      <td>4</td>\n",
       "      <td>...</td>\n",
       "      <td>1</td>\n",
       "      <td>0</td>\n",
       "      <td>0</td>\n",
       "      <td>5</td>\n",
       "      <td>8</td>\n",
       "      <td>16</td>\n",
       "      <td>6</td>\n",
       "      <td>15</td>\n",
       "      <td>2</td>\n",
       "      <td>241</td>\n",
       "    </tr>\n",
       "    <tr>\n",
       "      <th>14059</th>\n",
       "      <td>4</td>\n",
       "      <td>4</td>\n",
       "      <td>4</td>\n",
       "      <td>43</td>\n",
       "      <td>51</td>\n",
       "      <td>4</td>\n",
       "      <td>3</td>\n",
       "      <td>3</td>\n",
       "      <td>9</td>\n",
       "      <td>4</td>\n",
       "      <td>...</td>\n",
       "      <td>1</td>\n",
       "      <td>12</td>\n",
       "      <td>1</td>\n",
       "      <td>1</td>\n",
       "      <td>0</td>\n",
       "      <td>242</td>\n",
       "      <td>5</td>\n",
       "      <td>15</td>\n",
       "      <td>2</td>\n",
       "      <td>241</td>\n",
       "    </tr>\n",
       "    <tr>\n",
       "      <th>14060</th>\n",
       "      <td>10</td>\n",
       "      <td>21</td>\n",
       "      <td>0</td>\n",
       "      <td>0</td>\n",
       "      <td>0</td>\n",
       "      <td>0</td>\n",
       "      <td>0</td>\n",
       "      <td>0</td>\n",
       "      <td>0</td>\n",
       "      <td>0</td>\n",
       "      <td>...</td>\n",
       "      <td>0</td>\n",
       "      <td>0</td>\n",
       "      <td>0</td>\n",
       "      <td>0</td>\n",
       "      <td>0</td>\n",
       "      <td>0</td>\n",
       "      <td>2</td>\n",
       "      <td>15</td>\n",
       "      <td>2</td>\n",
       "      <td>241</td>\n",
       "    </tr>\n",
       "  </tbody>\n",
       "</table>\n",
       "<p>14061 rows × 24 columns</p>\n",
       "</div>"
      ],
      "text/plain": [
       "      site1 site2 site3 site4 site5 site6 site7 site8 site9 site10  ...  \\\n",
       "0       192   574   134     3   134   134     3   134   204    134  ...   \n",
       "1       420   193   697   254   134    31   400  3338   219     55  ...   \n",
       "2        55     3    55    55     5   295   420   333   897     55  ...   \n",
       "3       476  4379   476    55    55    55    55   981   199    124  ...   \n",
       "4       343    55     5  4515   259   211  4398  2139   684   2139  ...   \n",
       "...     ...   ...   ...   ...   ...   ...   ...   ...   ...    ...  ...   \n",
       "14056     3     4     6    10     2    21     3     6    27     65  ...   \n",
       "14057    10    21    65    27    30     3     4     9     4     30  ...   \n",
       "14058    33     4     9     6    10    51     9    33     4      4  ...   \n",
       "14059     4     4     4    43    51     4     3     3     9      4  ...   \n",
       "14060    10    21     0     0     0     0     0     0     0      0  ...   \n",
       "\n",
       "      time_diff5 time_diff6 time_diff7 time_diff8 time_diff9 session_timespan  \\\n",
       "0             20          1          0          1          0               33   \n",
       "1              0          1          3          3          8              284   \n",
       "2              0          0          1          0          0              258   \n",
       "3             25          1          0          0          0               30   \n",
       "4              1          0          1          1          0                6   \n",
       "...          ...        ...        ...        ...        ...              ...   \n",
       "14056          0          1         23          1          0               27   \n",
       "14057          0          0          2          1          6               11   \n",
       "14058          1          0          0          5          8               16   \n",
       "14059          1         12          1          1          0              242   \n",
       "14060          0          0          0          0          0                0   \n",
       "\n",
       "      #unique_sites start_hour day_of_week  target  \n",
       "0                 5          8           4      31  \n",
       "1                10          8           4      31  \n",
       "2                 7          8           4      31  \n",
       "3                 6          8           4      31  \n",
       "4                 9          8           4      31  \n",
       "...             ...        ...         ...     ...  \n",
       "14056             8         15           2     241  \n",
       "14057             8         15           2     241  \n",
       "14058             6         15           2     241  \n",
       "14059             5         15           2     241  \n",
       "14060             2         15           2     241  \n",
       "\n",
       "[14061 rows x 24 columns]"
      ]
     },
     "execution_count": 12,
     "metadata": {},
     "output_type": "execute_result"
    }
   ],
   "source": [
    "train_data_10users"
   ]
  },
  {
   "cell_type": "code",
   "execution_count": 13,
   "metadata": {},
   "outputs": [
    {
     "data": {
      "text/plain": [
       "128    2796\n",
       "39     2204\n",
       "207    1868\n",
       "127    1712\n",
       "237    1643\n",
       "33     1022\n",
       "50      802\n",
       "31      760\n",
       "100     720\n",
       "241     534\n",
       "Name: target, dtype: int64"
      ]
     },
     "execution_count": 13,
     "metadata": {},
     "output_type": "execute_result"
    }
   ],
   "source": [
    "#распределение целевой переменной\n",
    "train_data_10users.target.value_counts()"
   ]
  },
  {
   "cell_type": "code",
   "execution_count": 14,
   "metadata": {},
   "outputs": [
    {
     "data": {
      "text/plain": [
       "<AxesSubplot:>"
      ]
     },
     "execution_count": 14,
     "metadata": {},
     "output_type": "execute_result"
    },
    {
     "data": {
      "image/png": "[encoded data removed]",
      "text/plain": [
       "<Figure size 432x288 with 1 Axes>"
      ]
     },
     "metadata": {
      "needs_background": "light"
     },
     "output_type": "display_data"
    }
   ],
   "source": [
    "#уникальность в сессии\n",
    "train_data_10users['#unique_sites'].hist(color='b', edgecolor='w')"
   ]
  },
  {
   "cell_type": "code",
   "execution_count": 15,
   "metadata": {},
   "outputs": [
    {
     "data": {
      "image/png": "[encoded data removed]",
      "text/plain": [
       "<Figure size 1152x288 with 1 Axes>"
      ]
     },
     "metadata": {
      "needs_background": "light"
     },
     "output_type": "display_data"
    }
   ],
   "source": [
    "train_data_10users[train_data_10users.session_timespan <= 300].session_timespan.plot.hist(\n",
    "    color='b', edgecolor='w', bins=100, figsize=(16, 4))\n",
    "plt.xlabel('продолжительность сессии, секунды')\n",
    "plt.ylabel('фриквенси')\n",
    "plt.show()"
   ]
  },
  {
   "cell_type": "code",
   "execution_count": 16,
   "metadata": {},
   "outputs": [
    {
     "data": {
      "image/png": "[encoded data removed]",
      "text/plain": [
       "<Figure size 1152x720 with 12 Axes>"
      ]
     },
     "metadata": {
      "needs_background": "light"
     },
     "output_type": "display_data"
    }
   ],
   "source": [
    "# списано во время peer-3w)\n",
    "\n",
    "fig, axes = plt.subplots(nrows=3, ncols=4, figsize=(16, 10))\n",
    "row, column = 0, 0\n",
    "\n",
    "for idx, (user, sub_df) in  enumerate(train_data_10users.groupby(['target'])): \n",
    "    axes[row, column].hist(sub_df['#unique_sites'], color='b', edgecolor='w')\n",
    "    axes[row, column].legend([user])\n",
    "    \n",
    "    column += 1\n",
    "    if column == 4:\n",
    "        column = 0\n",
    "        row += 1"
   ]
  },
  {
   "cell_type": "markdown",
   "metadata": {},
   "source": [
    "В общем показатели уникальности видятся не самыми перспективными, но попробуем создать фич:\n",
    "<ol>\n",
    "<li>насколько сессия состоит из популярных сайтов(x/10),</li> \n",
    "<li>сколько популярных сайтов представлено в сессии</li>\n",
    "все для \"10&10\""
   ]
  },
  {
   "cell_type": "code",
   "execution_count": 17,
   "metadata": {},
   "outputs": [],
   "source": [
    "def feature_engineering(path_to_csv_files,                                # считаем базовую функцию только над сайтами\n",
    "                        site_freq_path, \n",
    "                        number_of_pop_sites):\n",
    "    \n",
    "    data = pd.DataFrame(columns=['site', 'id'])\n",
    "    for name in glob(path_to_csv_files+'\\\\*.csv'):\n",
    "        data_1 = pd.read_csv(name, sep=',')\n",
    "        data_1 = data_1.drop(['timestamp'], axis = 1)\n",
    "        data_1['id'] = int(''.join([i for i in os.path.basename(name) if i.isdigit()]))   \n",
    "        data = pd.concat([data, data_1])\n",
    "\n",
    "    data = data.reset_index(drop=True)\n",
    "\n",
    "    with open(site_freq_path, 'rb') as site_freq_pkl:\n",
    "        site_freq = pickle.load(site_freq_pkl)\n",
    "\n",
    "    data_1 = data.copy(deep=True)\n",
    "    users = list(data.id.unique())\n",
    "\n",
    "    for i in range(data.shape[0]):\n",
    "        data_1.iloc[i,0] = site_freq[str(data.iloc[i,0])][0]\n",
    "\n",
    "    data_group = data_1[['site', 'id']].groupby(by=['id']).count()\n",
    "\n",
    "    N=10\n",
    "    data_11 = np.asarray(data_1)\n",
    "\n",
    "    gf = np.matrix([0,0])                                            \n",
    "\n",
    "    l = list(data_group.index.unique())\n",
    "    for i in l:    \n",
    "        quantity = int(data_group.loc[i])\n",
    "        if quantity % N != 0:\n",
    "            matrix = np.array((N - quantity % N)*[0,i]).reshape(((N - quantity % N),2))\n",
    "            gf = np.concatenate((gf, data_11[data_11[:,1] == i], matrix))\n",
    "        else:\n",
    "            gf = np.concatenate((gf, data_11[data_11[:,1] == i]))\n",
    "    data_11 = np.delete(gf, [0], axis=0)  \n",
    "\n",
    "    session = pd.DataFrame(np.concatenate((data_11[:,0].reshape((data_11.shape[0] // N), N), data_11[::N,1]), axis=1))\n",
    "\n",
    "    def count_lists(popular, session):                                # функция считает взаимные вхождения двух списков \n",
    "        counter_session_only_pop = 0\n",
    "        counter_session_number_of_pop = 0\n",
    "        for i in popular:\n",
    "            counter_session_only_pop += session.count(i)\n",
    "        for i in set(session):\n",
    "            counter_session_number_of_pop += popular.count(i)    \n",
    "        return counter_session_only_pop, counter_session_number_of_pop\n",
    "\n",
    "    top5_freqs = [i[0] for i in list(site_freq.values())[:number_of_pop_sites]] #сколько сайтов считаем \"популярными\"\n",
    "\n",
    "    session['part_pop'] = 0\n",
    "    session['k_pop'] = 0\n",
    "\n",
    "    session.iloc[:,11] = session.iloc[:, 0:10].apply(lambda x: count_lists(top5_freqs, list(x))[0], axis=1)\n",
    "    session.iloc[:,12] = session.iloc[:, 0:10].apply(lambda x: count_lists(top5_freqs, list(x))[1], axis=1)\n",
    "\n",
    "    return session.iloc[:,11:13]"
   ]
  },
  {
   "cell_type": "code",
   "execution_count": 18,
   "metadata": {},
   "outputs": [],
   "source": [
    "new_features_10users = feature_engineering (os.path.join(PATH_TO_DATA,'10users'),\n",
    "                                            os.path.join(PATH_TO_DATA,'site_freq_10users.pkl'), \n",
    "                                            number_of_pop_sites=10)"
   ]
  },
  {
   "cell_type": "code",
   "execution_count": 19,
   "metadata": {},
   "outputs": [
    {
     "data": {
      "image/png": "[encoded data removed]",
      "text/plain": [
       "<Figure size 576x288 with 1 Axes>"
      ]
     },
     "metadata": {
      "needs_background": "light"
     },
     "output_type": "display_data"
    },
    {
     "data": {
      "image/png": "[encoded data removed]",
      "text/plain": [
       "<Figure size 576x288 with 1 Axes>"
      ]
     },
     "metadata": {
      "needs_background": "light"
     },
     "output_type": "display_data"
    }
   ],
   "source": [
    "plt.figure(figsize = (8, 4))\n",
    "plt.hist(new_features_10users.part_pop, color='b', edgecolor='w')\n",
    "plt.show()\n",
    "plt.figure(figsize = (8, 4))\n",
    "plt.hist(new_features_10users.k_pop, color='b', edgecolor='w')\n",
    "plt.show()"
   ]
  },
  {
   "cell_type": "markdown",
   "metadata": {},
   "source": [
    "*1. насколько сессия состоит из популярных сайтов(x/10)<br/>*\n",
    "при поп-группе размером в 10 сайтов на 10 пользователях - более 3000 сессий на \"особых\" сайтах, что потенциально неплохо для последующей идентификации\n",
    "\n",
    "*2. сколько популярных сайтов представлено в сессии<br/>*\n",
    "много пользователей с 1-2 сайтами, посмотрим, что получится<br/>\n",
    "\n",
    "Любопытно, продолжим - что там с линейными алгоритмами"
   ]
  },
  {
   "cell_type": "code",
   "execution_count": 5,
   "metadata": {},
   "outputs": [],
   "source": [
    "with open(os.path.join(PATH_TO_DATA, 'X_sparse_10users.pkl'), 'rb') as X_sparse_10users_pkl:\n",
    "    X_sparse_10users = pickle.load(X_sparse_10users_pkl)\n",
    "with open(os.path.join(PATH_TO_DATA, 'y_10users.pkl'), 'rb') as y_10users_pkl:\n",
    "    y_10users = pickle.load(y_10users_pkl)\n",
    "\n",
    "#стратифицированное разбиение по 3 фолдам\n",
    "skf = StratifiedKFold(n_splits=3, shuffle=True, random_state=17)"
   ]
  },
  {
   "cell_type": "code",
   "execution_count": 21,
   "metadata": {},
   "outputs": [
    {
     "name": "stdout",
     "output_type": "stream",
     "text": [
      "Wall time: 5min 48s\n"
     ]
    },
    {
     "data": {
      "text/plain": [
       "LogisticRegressionCV(Cs=array([0.1       , 0.46315789, 0.82631579, 1.18947368, 1.55263158,\n",
       "       1.91578947, 2.27894737, 2.64210526, 3.00526316, 3.36842105,\n",
       "       3.73157895, 4.09473684, 4.45789474, 4.82105263, 5.18421053,\n",
       "       5.54736842, 5.91052632, 6.27368421, 6.63684211, 7.        ]),\n",
       "                     cv=StratifiedKFold(n_splits=3, random_state=17, shuffle=True),\n",
       "                     multi_class='multinomial', n_jobs=2, random_state=17)"
      ]
     },
     "execution_count": 21,
     "metadata": {},
     "output_type": "execute_result"
    }
   ],
   "source": [
    "%%time\n",
    "logit_c_values = np.linspace(0.1, 7, 20)\n",
    "\n",
    "logit_grid_searcher = LogisticRegressionCV(logit_c_values, cv = skf, multi_class='multinomial', n_jobs=2, random_state=17) \n",
    "logit_grid_searcher.fit(X_sparse_10users.todense(), y_10users)"
   ]
  },
  {
   "cell_type": "code",
   "execution_count": 22,
   "metadata": {},
   "outputs": [
    {
     "name": "stdout",
     "output_type": "stream",
     "text": [
      "0.7774695967569873 1.9157894736842107\n"
     ]
    },
    {
     "data": {
      "image/png": "[encoded data removed]",
      "text/plain": [
       "<Figure size 864x576 with 1 Axes>"
      ]
     },
     "metadata": {
      "needs_background": "light"
     },
     "output_type": "display_data"
    }
   ],
   "source": [
    "logit_mean_cv_scores = logit_grid_searcher.scores_[1].mean(axis=0)\n",
    "print(max(logit_mean_cv_scores), logit_grid_searcher.Cs_[np.argmax(logit_mean_cv_scores)])\n",
    "plt.figure(figsize = (12, 8))\n",
    "plt.plot(logit_c_values, logit_mean_cv_scores);"
   ]
  },
  {
   "cell_type": "code",
   "execution_count": 6,
   "metadata": {},
   "outputs": [
    {
     "name": "stdout",
     "output_type": "stream",
     "text": [
      "Wall time: 2min 58s\n"
     ]
    },
    {
     "data": {
      "text/plain": [
       "GridSearchCV(estimator=LinearSVC(random_state=17),\n",
       "             param_grid={'C': array([0.001     , 0.03544828, 0.06989655, 0.10434483, 0.1387931 ,\n",
       "       0.17324138, 0.20768966, 0.24213793, 0.27658621, 0.31103448,\n",
       "       0.34548276, 0.37993103, 0.41437931, 0.44882759, 0.48327586,\n",
       "       0.51772414, 0.55217241, 0.58662069, 0.62106897, 0.65551724,\n",
       "       0.68996552, 0.72441379, 0.75886207, 0.79331034, 0.82775862,\n",
       "       0.8622069 , 0.89665517, 0.93110345, 0.96555172, 1.        ])})"
      ]
     },
     "execution_count": 6,
     "metadata": {},
     "output_type": "execute_result"
    }
   ],
   "source": [
    "%%time\n",
    "svm_params = {'C': np.linspace(1e-3, 1, 30)}\n",
    "\n",
    "svm = LinearSVC(random_state=17)\n",
    "svm_grid_searcher = GridSearchCV(svm, svm_params) \n",
    "svm_grid_searcher.fit(X_sparse_10users, y_10users)"
   ]
  },
  {
   "cell_type": "code",
   "execution_count": 7,
   "metadata": {},
   "outputs": [
    {
     "name": "stdout",
     "output_type": "stream",
     "text": [
      "0.6121958403854488 0.035448275862068966\n"
     ]
    },
    {
     "data": {
      "image/png": "[encoded data removed]",
      "text/plain": [
       "<Figure size 864x576 with 1 Axes>"
      ]
     },
     "metadata": {
      "needs_background": "light"
     },
     "output_type": "display_data"
    }
   ],
   "source": [
    "plt.figure(figsize = (12, 8))\n",
    "print(svm_grid_searcher.best_score_, svm_grid_searcher.best_params_['C'])\n",
    "plt.plot(svm_params['C'], svm_grid_searcher.cv_results_['mean_test_score']);"
   ]
  },
  {
   "cell_type": "markdown",
   "metadata": {},
   "source": [
    "Без разделения на трейн/валид aka week_4 логит отработал лучше, посмоторим.<br/>Заведем функцию и посмотрим, сколько времени это займет на ноуте"
   ]
  },
  {
   "cell_type": "markdown",
   "metadata": {},
   "source": [
    "<img src=\"https://mem-baza.ru/_ph/1/2/907722612.jpg?1600932156\"/>"
   ]
  },
  {
   "cell_type": "code",
   "execution_count": 8,
   "metadata": {},
   "outputs": [],
   "source": [
    "def model_assessment(estimator, path_to_X_pickle, path_to_y_pickle, cv, random_state=17, test_size=0.3):\n",
    "\n",
    "    with open(path_to_X_pickle, 'rb') as X_sparse_pkl:\n",
    "        X_sparse = pickle.load(X_sparse_pkl)\n",
    "    with open(path_to_y_pickle, 'rb') as y_pkl:\n",
    "        y = pickle.load(y_pkl)\n",
    "    X_train, X_valid, y_train, y_valid = train_test_split(X_sparse, y,\n",
    "                                                          test_size=test_size,\n",
    "                                                          random_state=random_state, \n",
    "                                                          stratify=y)\n",
    "    \n",
    "    CV_accuracy = cross_val_score(estimator, X_train, y_train, cv=cv).mean()\n",
    "    accuracy = accuracy_score(y_valid, estimator.fit(X_train, y_train).predict(X_valid))\n",
    "    \n",
    "    return CV_accuracy, accuracy"
   ]
  },
  {
   "cell_type": "code",
   "execution_count": 12,
   "metadata": {},
   "outputs": [],
   "source": [
    "PATH_TO_DATA_2 = 'C:\\\\Users\\\\Пользователь\\\\Desktop\\\\PY_spec\\\\2_hypos\\\\capstone_user_identification'"
   ]
  },
  {
   "cell_type": "code",
   "execution_count": 13,
   "metadata": {},
   "outputs": [],
   "source": [
    "\"\"\"\n",
    "%%time\n",
    "estimator = logit_grid_searcher\n",
    "\n",
    "for window_size, session_length in tqdm(itertools.product([10], [10, 7])):\n",
    "    if window_size <= session_length:\n",
    "        path_to_X_pkl = os.path.join(PATH_TO_DATA_2,'X_sparse_150users_s{}_w{}.pkl'.format(session_length, window_size))\n",
    "        path_to_y_pkl = os.path.join(PATH_TO_DATA_2,'y_150users_s{}_w{}.pkl'.format(session_length, window_size))\n",
    "        print(session_length, \n",
    "              window_size, \n",
    "              model_assessment(estimator,\n",
    "                               path_to_X_pkl,\n",
    "                               path_to_y_pkl,\n",
    "                               skf,\n",
    "                               random_state=17,\n",
    "                               test_size=0.3)\n",
    "             )\n",
    "\"\"\";"
   ]
  },
  {
   "cell_type": "markdown",
   "metadata": {},
   "source": [
    "заняло 3.5 часа для (10, 10), out утрачен, вернемся к SVM=)"
   ]
  },
  {
   "cell_type": "code",
   "execution_count": 14,
   "metadata": {},
   "outputs": [
    {
     "name": "stderr",
     "output_type": "stream",
     "text": [
      " 33%|███████████████████████████▋                                                       | 1/3 [03:10<06:21, 190.69s/it]"
     ]
    },
    {
     "name": "stdout",
     "output_type": "stream",
     "text": [
      "5 5 (0.40077384770218333, 0.414561736506546)\n"
     ]
    },
    {
     "name": "stderr",
     "output_type": "stream",
     "text": [
      "\r",
      " 67%|███████████████████████████████████████████████████████▎                           | 2/3 [05:48<03:00, 180.93s/it]"
     ]
    },
    {
     "name": "stdout",
     "output_type": "stream",
     "text": [
      "7 7 (0.42734200499277364, 0.4460265013455053)\n"
     ]
    },
    {
     "name": "stderr",
     "output_type": "stream",
     "text": [
      "100%|███████████████████████████████████████████████████████████████████████████████████| 3/3 [08:07<00:00, 162.53s/it]"
     ]
    },
    {
     "name": "stdout",
     "output_type": "stream",
     "text": [
      "10 10 (0.45615297196417587, 0.4763781443098331)\n",
      "Wall time: 8min 7s\n"
     ]
    },
    {
     "name": "stderr",
     "output_type": "stream",
     "text": [
      "\n"
     ]
    }
   ],
   "source": [
    "%%time\n",
    "estimator = svm_grid_searcher.best_estimator_\n",
    "\n",
    "for window_size, session_length in tqdm([(5,5), (7,7), (10,10)]):\n",
    "    path_to_X_pkl = os.path.join(PATH_TO_DATA_2,'X_sparse_150users_s{}_w{}.pkl'.format(session_length, window_size))\n",
    "    path_to_y_pkl = os.path.join(PATH_TO_DATA_2,'y_150users_s{}_w{}.pkl'.format(session_length, window_size))\n",
    "    print(session_length,\n",
    "          window_size,\n",
    "          model_assessment(estimator,\n",
    "                           path_to_X_pkl,\n",
    "                           path_to_y_pkl,\n",
    "                           skf,\n",
    "                           random_state=17,\n",
    "                           test_size=0.3)\n",
    "         )"
   ]
  },
  {
   "cell_type": "markdown",
   "metadata": {},
   "source": [
    "В пределах разумного для 150 несбалансированных классов, наверное=)"
   ]
  },
  {
   "cell_type": "markdown",
   "metadata": {},
   "source": [
    "## 3. Итоговая модель\n",
    "\n",
    "Логит - норм, логитно использовать его ускоренный вариант, как нам и поручено в задании week_5 для 2-классового классификатора,- SGDClassifier (loss='log').<br> Для повторяемости пойдем по неделе"
   ]
  },
  {
   "cell_type": "code",
   "execution_count": 16,
   "metadata": {},
   "outputs": [],
   "source": [
    "PATH_TO_DATA = 'C:\\\\Users\\\\Пользователь\\\\Desktop\\\\PY_spec\\\\5_kaggle\\\\data'"
   ]
  },
  {
   "cell_type": "code",
   "execution_count": 17,
   "metadata": {},
   "outputs": [],
   "source": [
    "train_df = pd.read_csv(os.path.join(PATH_TO_DATA, 'train_sessions.csv'),\n",
    "                       index_col='session_id')\n",
    "test_df = pd.read_csv(os.path.join(PATH_TO_DATA, 'test_sessions.csv'),\n",
    "                      index_col='session_id')\n",
    "train_test_df = pd.concat([train_df, test_df])"
   ]
  },
  {
   "cell_type": "code",
   "execution_count": 18,
   "metadata": {},
   "outputs": [],
   "source": [
    "# оставляем только сайты\n",
    "train_test_df_sites = train_test_df[['site%d' % i for i in range(1, 11)]].fillna(0).astype('int')"
   ]
  },
  {
   "cell_type": "code",
   "execution_count": 19,
   "metadata": {},
   "outputs": [],
   "source": [
    "# изменим выход csr\n",
    "def csr(X_):\n",
    "    X_ = np.asarray(X_)\n",
    "    indptr = [0]\n",
    "    indices = []\n",
    "    data = []\n",
    "    vocabulary = {}\n",
    "    for session in X_:\n",
    "        for site in session:\n",
    "            if site != 0:\n",
    "                index = vocabulary.setdefault(site, len(vocabulary))\n",
    "                indices.append(index)\n",
    "                data.append(1)\n",
    "        indptr.append(len(indices))\n",
    "    return csr_matrix((data, indices, indptr))#.todense()\n",
    "\n",
    "train_test_sparse = csr(train_test_df_sites)\n",
    "X_train_sparse = train_test_sparse[:train_df.shape[0],:]\n",
    "X_test_sparse = train_test_sparse[train_df.shape[0]:,:]\n",
    "y = np.array(train_df.target)"
   ]
  },
  {
   "cell_type": "code",
   "execution_count": 20,
   "metadata": {},
   "outputs": [],
   "source": [
    "# трейн и валид\n",
    "train_share = int(.7 * X_train_sparse.shape[0])\n",
    "X_train, y_train = X_train_sparse[:train_share, :], y[:train_share]\n",
    "X_valid, y_valid  = X_train_sparse[train_share:, :], y[train_share:]"
   ]
  },
  {
   "cell_type": "code",
   "execution_count": 25,
   "metadata": {},
   "outputs": [
    {
     "data": {
      "text/plain": [
       "SGDClassifier(loss='log', n_jobs=-1, random_state=17)"
      ]
     },
     "execution_count": 25,
     "metadata": {},
     "output_type": "execute_result"
    }
   ],
   "source": [
    "# классификатор\n",
    "sgd_logit = SGDClassifier(loss='log', n_jobs=-1, random_state=17)\n",
    "sgd_logit.fit(X_train, y_train)"
   ]
  },
  {
   "cell_type": "code",
   "execution_count": 22,
   "metadata": {},
   "outputs": [
    {
     "data": {
      "text/plain": [
       "0.9336207281302978"
      ]
     },
     "execution_count": 22,
     "metadata": {},
     "output_type": "execute_result"
    }
   ],
   "source": [
    "# ROC на валидации\n",
    "roc_auc_score(y_valid, sgd_logit.predict_proba(X_valid)[:,1])"
   ]
  },
  {
   "cell_type": "code",
   "execution_count": 24,
   "metadata": {},
   "outputs": [
    {
     "name": "stdout",
     "output_type": "stream",
     "text": [
      "Wall time: 479 ms\n"
     ]
    }
   ],
   "source": [
    "%%time\n",
    "\n",
    "sgd_logit.fit(X_train_sparse, y) \n",
    "logit_test_pred_proba = sgd_logit.predict_proba(X_test_sparse)[:,1]\n",
    "#write_to_submission_file(logit_test_pred_proba, '[YDF & MIPT] Coursera_KV.csv')\n",
    "#0.91646 - YDF MIPT Coursera_KV"
   ]
  },
  {
   "cell_type": "markdown",
   "metadata": {},
   "source": [
    "### Попробуем улучшить используя наши фичи\n",
    "Чтобы не переформировать фреймы, упростим нашу функцию только до фич"
   ]
  },
  {
   "cell_type": "code",
   "execution_count": 26,
   "metadata": {},
   "outputs": [],
   "source": [
    "def feature_engineering(train_test_df_sites,\n",
    "                        number_of_pop_sites):\n",
    "    \n",
    "    session = train_test_df_sites.copy()\n",
    "\n",
    "    def count_lists(popular, session):\n",
    "        counter_session_only_pop = 0\n",
    "        counter_session_number_of_pop = 0\n",
    "        for i in popular:\n",
    "            counter_session_only_pop += session.count(i)\n",
    "        for i in set(session):\n",
    "            counter_session_number_of_pop += popular.count(i)    \n",
    "        return counter_session_only_pop, counter_session_number_of_pop\n",
    "\n",
    "    site_freq = dict(session.apply(pd.value_counts).iloc[1:,::].sum(axis=1).astype('int').sort_values(ascending=False))\n",
    "    top_freqs = [i for i in list(site_freq.keys())[:number_of_pop_sites]]\n",
    "\n",
    "    session['part_pop'] = 0\n",
    "    session['k_pop'] = 0\n",
    "\n",
    "    session['part_pop'] = session.iloc[:, 0:10].apply(lambda x: count_lists(top_freqs, list(x))[0], axis=1)\n",
    "    session['k_pop'] = session.iloc[:, 0:10].apply(lambda x: count_lists(top_freqs, list(x))[1], axis=1)\n",
    "\n",
    "    return session[['part_pop', 'k_pop']]"
   ]
  },
  {
   "cell_type": "code",
   "execution_count": 27,
   "metadata": {},
   "outputs": [
    {
     "name": "stdout",
     "output_type": "stream",
     "text": [
      "Wall time: 8.59 s\n"
     ]
    },
    {
     "data": {
      "text/html": [
       "<div>\n",
       "<style scoped>\n",
       "    .dataframe tbody tr th:only-of-type {\n",
       "        vertical-align: middle;\n",
       "    }\n",
       "\n",
       "    .dataframe tbody tr th {\n",
       "        vertical-align: top;\n",
       "    }\n",
       "\n",
       "    .dataframe thead th {\n",
       "        text-align: right;\n",
       "    }\n",
       "</style>\n",
       "<table border=\"1\" class=\"dataframe\">\n",
       "  <thead>\n",
       "    <tr style=\"text-align: right;\">\n",
       "      <th></th>\n",
       "      <th>part_pop</th>\n",
       "      <th>k_pop</th>\n",
       "    </tr>\n",
       "    <tr>\n",
       "      <th>session_id</th>\n",
       "      <th></th>\n",
       "      <th></th>\n",
       "    </tr>\n",
       "  </thead>\n",
       "  <tbody>\n",
       "    <tr>\n",
       "      <th>1</th>\n",
       "      <td>0</td>\n",
       "      <td>0</td>\n",
       "    </tr>\n",
       "    <tr>\n",
       "      <th>2</th>\n",
       "      <td>0</td>\n",
       "      <td>0</td>\n",
       "    </tr>\n",
       "    <tr>\n",
       "      <th>3</th>\n",
       "      <td>0</td>\n",
       "      <td>0</td>\n",
       "    </tr>\n",
       "    <tr>\n",
       "      <th>4</th>\n",
       "      <td>10</td>\n",
       "      <td>1</td>\n",
       "    </tr>\n",
       "    <tr>\n",
       "      <th>5</th>\n",
       "      <td>1</td>\n",
       "      <td>1</td>\n",
       "    </tr>\n",
       "    <tr>\n",
       "      <th>...</th>\n",
       "      <td>...</td>\n",
       "      <td>...</td>\n",
       "    </tr>\n",
       "    <tr>\n",
       "      <th>82793</th>\n",
       "      <td>0</td>\n",
       "      <td>0</td>\n",
       "    </tr>\n",
       "    <tr>\n",
       "      <th>82794</th>\n",
       "      <td>0</td>\n",
       "      <td>0</td>\n",
       "    </tr>\n",
       "    <tr>\n",
       "      <th>82795</th>\n",
       "      <td>4</td>\n",
       "      <td>4</td>\n",
       "    </tr>\n",
       "    <tr>\n",
       "      <th>82796</th>\n",
       "      <td>5</td>\n",
       "      <td>2</td>\n",
       "    </tr>\n",
       "    <tr>\n",
       "      <th>82797</th>\n",
       "      <td>1</td>\n",
       "      <td>1</td>\n",
       "    </tr>\n",
       "  </tbody>\n",
       "</table>\n",
       "<p>336358 rows × 2 columns</p>\n",
       "</div>"
      ],
      "text/plain": [
       "            part_pop  k_pop\n",
       "session_id                 \n",
       "1                  0      0\n",
       "2                  0      0\n",
       "3                  0      0\n",
       "4                 10      1\n",
       "5                  1      1\n",
       "...              ...    ...\n",
       "82793              0      0\n",
       "82794              0      0\n",
       "82795              4      4\n",
       "82796              5      2\n",
       "82797              1      1\n",
       "\n",
       "[336358 rows x 2 columns]"
      ]
     },
     "execution_count": 27,
     "metadata": {},
     "output_type": "execute_result"
    }
   ],
   "source": [
    "%%time\n",
    "train_test_df_sites_2f = feature_engineering(train_test_df_sites, 10)\n",
    "train_test_df_sites_2f"
   ]
  },
  {
   "cell_type": "code",
   "execution_count": 29,
   "metadata": {},
   "outputs": [
    {
     "name": "stdout",
     "output_type": "stream",
     "text": [
      "Wall time: 442 ms\n"
     ]
    },
    {
     "data": {
      "text/plain": [
       "0.9239902069144381"
      ]
     },
     "execution_count": 29,
     "metadata": {},
     "output_type": "execute_result"
    }
   ],
   "source": [
    "%%time\n",
    "# делим на трейн и тест\n",
    "X_train_2f = train_test_df_sites_2f.iloc[:train_df.shape[0],:]\n",
    "X_test_2f = train_test_df_sites_2f.iloc[train_df.shape[0]:,:]\n",
    "\n",
    "# в csr\n",
    "X_train_2f_train = csr_matrix(X_train_2f.iloc[:train_share, :])\n",
    "X_train_2f_valid = csr_matrix(X_train_2f.iloc[train_share:, :])\n",
    "\n",
    "# стыкуем и учим\n",
    "sgd_logit_2f = SGDClassifier(loss='log', n_jobs=-1, random_state=17)\n",
    "sgd_logit_2f.fit(hstack([X_train, X_train_2f_train]), y_train)\n",
    "\n",
    "logit_2f_valid_pred_proba = sgd_logit_2f.predict_proba(hstack([X_valid, X_train_2f_valid]))\n",
    "roc_auc_score(y_valid, logit_2f_valid_pred_proba[:,1])"
   ]
  },
  {
   "cell_type": "code",
   "execution_count": 30,
   "metadata": {},
   "outputs": [],
   "source": [
    "sgd_logit_2f.fit(hstack([X_train_sparse, X_train_2f]), y) \n",
    "logit_test_2f_pred_proba = sgd_logit_2f.predict_proba(hstack([X_test_sparse, X_test_2f]))[:,1]"
   ]
  },
  {
   "cell_type": "code",
   "execution_count": 31,
   "metadata": {},
   "outputs": [],
   "source": [
    "#write_to_submission_file(logit_test_2f_pred_proba, '[YDF & MIPT] Coursera_KV_2f.csv')\n",
    "#0.91414 - не вышло "
   ]
  },
  {
   "cell_type": "code",
   "execution_count": 32,
   "metadata": {},
   "outputs": [
    {
     "data": {
      "text/plain": [
       "0.9533784550123807"
      ]
     },
     "execution_count": 32,
     "metadata": {},
     "output_type": "execute_result"
    }
   ],
   "source": [
    "#попробуем снизить альфа\n",
    "sgd_logit_2f = SGDClassifier(loss='log', n_jobs=-1, alpha=0.00001, random_state=17)\n",
    "sgd_logit_2f.fit(hstack([X_train, X_train_2f_train]), y_train)\n",
    "\n",
    "logit_2f_valid_pred_proba = sgd_logit_2f.predict_proba(hstack([X_valid, X_train_2f_valid]))\n",
    "\n",
    "roc_auc_score(y_valid, logit_2f_valid_pred_proba[:,1])"
   ]
  },
  {
   "cell_type": "code",
   "execution_count": 33,
   "metadata": {},
   "outputs": [],
   "source": [
    "sgd_logit_2f.fit(hstack([X_train_sparse, X_train_2f]), y) \n",
    "logit_test_2f_pred_proba = sgd_logit_2f.predict_proba(hstack([X_test_sparse, X_test_2f]))[:,1]\n",
    "#write_to_submission_file(logit_test_2f_pred_proba, '[YDF & MIPT] Coursera_KV_2f.csv')\n",
    "#0.89808 - переучился"
   ]
  },
  {
   "cell_type": "markdown",
   "metadata": {},
   "source": [
    "### попробуем еще раз\n",
    "#### осмысленное списывание https://www.kaggle.com/kashnitsky/correct-time-aware-cross-validation-scheme"
   ]
  },
  {
   "cell_type": "code",
   "execution_count": 37,
   "metadata": {},
   "outputs": [
    {
     "name": "stdout",
     "output_type": "stream",
     "text": [
      "Wall time: 12.2 s\n"
     ]
    }
   ],
   "source": [
    "%%time\n",
    "#сортируем сессии по времени\n",
    "train_df = train_df.sort_values(by='time1')\n",
    "\n",
    "#записываем информацию по трейну и тесту в csv-образные .txt\n",
    "sites = ['site%s' % i for i in range(1, 11)]\n",
    "train_df[sites].fillna(0).astype('int').to_csv('train_sessions_text.txt', \n",
    "                                               sep=' ',\n",
    "                                               index=None, \n",
    "                                               header=None)\n",
    "test_df[sites].fillna(0).astype('int').to_csv('test_sessions_text.txt', \n",
    "                                              sep=' ',\n",
    "                                              index=None,\n",
    "                                              header=None)\n",
    "\n",
    "# переводим все в те самые разреженные матрицы CountVectorizer-ом, т.к. идентификаторы \n",
    "# сайтов одни и те же в тесте и трейне, можно делать по отдельности\n",
    "\n",
    "cv = CountVectorizer(ngram_range=(1, 3), max_features=50000)\n",
    "with open('train_sessions_text.txt') as inp_train_file:\n",
    "    X_train = cv.fit_transform(inp_train_file)\n",
    "with open('test_sessions_text.txt') as inp_test_file:\n",
    "    X_test = cv.transform(inp_test_file)\n",
    "\n",
    "y_train = train_df['target'].astype('int').values\n",
    "\n",
    "# используем особый сплит для временных данных (как я понял, основная особость в контроле периодичности)\n",
    "# в том числе для этого и сортировали по времени, но не понял как со стратификацией...похоже, никак\n",
    "\n",
    "time_split = TimeSeriesSplit(n_splits=10)"
   ]
  },
  {
   "cell_type": "code",
   "execution_count": 38,
   "metadata": {},
   "outputs": [
    {
     "name": "stdout",
     "output_type": "stream",
     "text": [
      "Fitting 10 folds for each of 10 candidates, totalling 100 fits\n"
     ]
    },
    {
     "name": "stderr",
     "output_type": "stream",
     "text": [
      "[Parallel(n_jobs=-1)]: Using backend LokyBackend with 8 concurrent workers.\n",
      "[Parallel(n_jobs=-1)]: Done  34 tasks      | elapsed:   13.7s\n",
      "[Parallel(n_jobs=-1)]: Done 100 out of 100 | elapsed:  3.2min finished\n"
     ]
    },
    {
     "name": "stdout",
     "output_type": "stream",
     "text": [
      "Wall time: 3min 15s\n"
     ]
    },
    {
     "data": {
      "text/plain": [
       "GridSearchCV(cv=TimeSeriesSplit(max_train_size=None, n_splits=10),\n",
       "             estimator=LogisticRegression(C=1, random_state=17,\n",
       "                                          solver='liblinear'),\n",
       "             n_jobs=-1,\n",
       "             param_grid={'C': array([1.00000000e-02, 2.78255940e-02, 7.74263683e-02, 2.15443469e-01,\n",
       "       5.99484250e-01, 1.66810054e+00, 4.64158883e+00, 1.29154967e+01,\n",
       "       3.59381366e+01, 1.00000000e+02])},\n",
       "             scoring='roc_auc', verbose=1)"
      ]
     },
     "execution_count": 38,
     "metadata": {},
     "output_type": "execute_result"
    }
   ],
   "source": [
    "%%time\n",
    "# попробуем логит и подбор параметров\n",
    "\n",
    "logit = LogisticRegression(C=1, random_state=17, solver='liblinear')\n",
    "c_values = np.logspace(-2, 2, 10)\n",
    "\n",
    "logit_grid_searcher = GridSearchCV(estimator=logit, param_grid={'C': c_values},\n",
    "                                  scoring='roc_auc', n_jobs=-1, cv=time_split, verbose=1)\n",
    "logit_grid_searcher.fit(X_train, y_train)"
   ]
  },
  {
   "cell_type": "code",
   "execution_count": 39,
   "metadata": {},
   "outputs": [],
   "source": [
    "#logit_test_pred = logit_grid_searcher.best_estimator_.predict_proba(X_test)[:, 1]\n",
    "#0.91807 - [YDF & MIPT] Coursera_KV_countVec"
   ]
  },
  {
   "cell_type": "markdown",
   "metadata": {},
   "source": [
    "CountVectorizer над сайтами и подбор C дали небольшой прирост, добавим временные признаки, которые можно перевести в One-Hot"
   ]
  },
  {
   "cell_type": "code",
   "execution_count": 40,
   "metadata": {},
   "outputs": [],
   "source": [
    "def add_time_features(df, X_sparse):\n",
    "    df['time1'] = df['time1'].astype('datetime64')\n",
    "    hour = df['time1'].apply(lambda ts: ts.hour)\n",
    "    dofw = df['time1'].apply(lambda ts: ts.dayofweek)\n",
    "\n",
    "    morning = ((hour >= 7) & (hour <= 11)).astype('int')\n",
    "    afternoon = ((hour >= 12) & (hour <= 18)).astype('int')\n",
    "    evening = ((hour >= 19) & (hour <= 23)).astype('int')\n",
    "    night = ((hour >= 0) & (hour <= 6)).astype('int')\n",
    "    \n",
    "    X = hstack([X_sparse,\n",
    "                morning.values.reshape(-1, 1),\n",
    "                afternoon.values.reshape(-1, 1), \n",
    "                evening.values.reshape(-1, 1), \n",
    "                night.values.reshape(-1, 1), \n",
    "                pd.get_dummies(dofw).values])\n",
    "    return X"
   ]
  },
  {
   "cell_type": "markdown",
   "metadata": {},
   "source": [
    "Уникальные сайты"
   ]
  },
  {
   "cell_type": "code",
   "execution_count": 41,
   "metadata": {},
   "outputs": [],
   "source": [
    "def add_site_features(df, X_sparse):\n",
    "    uni = df.iloc[:, 0:10].apply(lambda x: len(set(filter(lambda a: a != 0, x))), axis=1)\n",
    "    \n",
    "    X = hstack([X_sparse,\n",
    "                pd.get_dummies(uni).values])\n",
    "    return X"
   ]
  },
  {
   "cell_type": "code",
   "execution_count": 46,
   "metadata": {},
   "outputs": [
    {
     "name": "stdout",
     "output_type": "stream",
     "text": [
      "Wall time: 7.31 s\n"
     ]
    }
   ],
   "source": [
    "%%time\n",
    "X_train_new = add_time_features(train_df.fillna(0), X_train)\n",
    "X_test_new = add_time_features(test_df.fillna(0), X_test)\n",
    "\n",
    "X_train_new = add_site_features(train_df.fillna(0), X_train_new)\n",
    "X_test_new = add_site_features(test_df.fillna(0), X_test_new)"
   ]
  },
  {
   "cell_type": "code",
   "execution_count": 47,
   "metadata": {},
   "outputs": [
    {
     "name": "stdout",
     "output_type": "stream",
     "text": [
      "Fitting 10 folds for each of 10 candidates, totalling 100 fits\n"
     ]
    },
    {
     "name": "stderr",
     "output_type": "stream",
     "text": [
      "[Parallel(n_jobs=-1)]: Using backend LokyBackend with 8 concurrent workers.\n",
      "[Parallel(n_jobs=-1)]: Done  34 tasks      | elapsed:   17.2s\n",
      "[Parallel(n_jobs=-1)]: Done 100 out of 100 | elapsed:  3.6min finished\n"
     ]
    },
    {
     "data": {
      "text/plain": [
       "GridSearchCV(cv=TimeSeriesSplit(max_train_size=None, n_splits=10),\n",
       "             estimator=LogisticRegression(C=1, random_state=17,\n",
       "                                          solver='liblinear'),\n",
       "             n_jobs=-1,\n",
       "             param_grid={'C': array([1.00000000e-02, 2.78255940e-02, 7.74263683e-02, 2.15443469e-01,\n",
       "       5.99484250e-01, 1.66810054e+00, 4.64158883e+00, 1.29154967e+01,\n",
       "       3.59381366e+01, 1.00000000e+02])},\n",
       "             scoring='roc_auc', verbose=1)"
      ]
     },
     "execution_count": 47,
     "metadata": {},
     "output_type": "execute_result"
    }
   ],
   "source": [
    "c_values = np.logspace(-2, 2, 10)\n",
    "\n",
    "logit_grid_searcher = GridSearchCV(estimator=logit, param_grid={'C': c_values},\n",
    "                                  scoring='roc_auc', n_jobs=-1, cv=time_split, verbose=1)\n",
    "logit_grid_searcher.fit(X_train_new, y_train)"
   ]
  },
  {
   "cell_type": "code",
   "execution_count": null,
   "metadata": {},
   "outputs": [],
   "source": [
    "#logit_test_pred = logit_grid_searcher.best_estimator_.predict_proba(X_test_new)[:, 1]\n",
    "#0.94631 - [YDF & MIPT] Coursera_KV_countVec+features"
   ]
  },
  {
   "cell_type": "markdown",
   "metadata": {},
   "source": [
    "Ликование!\n",
    "<img src=\"https://www.meme-arsenal.com/memes/afba1b259b05ce253586c884cddf7ed0.jpg\"/>"
   ]
  }
 ],
 "metadata": {
  "kernelspec": {
   "display_name": "Python 3",
   "language": "python",
   "name": "python3"
  },
  "language_info": {
   "codemirror_mode": {
    "name": "ipython",
    "version": 3
   },
   "file_extension": ".py",
   "mimetype": "text/x-python",
   "name": "python",
   "nbconvert_exporter": "python",
   "pygments_lexer": "ipython3",
   "version": "3.8.5"
  }
 },
 "nbformat": 4,
 "nbformat_minor": 4
}
